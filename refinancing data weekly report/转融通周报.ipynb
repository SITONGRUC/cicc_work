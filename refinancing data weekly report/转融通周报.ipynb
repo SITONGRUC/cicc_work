{
 "cells": [
  {
   "cell_type": "code",
   "execution_count": 1,
   "metadata": {
    "scrolled": true
   },
   "outputs": [],
   "source": [
    "from selenium import webdriver\n",
    "from selenium.webdriver.chrome.options import Options\n",
    "import pandas as pd\n",
    "import re\n",
    "import numpy as np\n",
    "chrome_options = Options()\n",
    "browser = webdriver.Chrome('/Users/riomoukiri/Desktop/chromedriver')"
   ]
  },
  {
   "cell_type": "code",
   "execution_count": 2,
   "metadata": {},
   "outputs": [],
   "source": [
    "#下载数据&拼合数据&格式转换\n",
    "date_list = list(pd.date_range('20220919','20220923'))\n",
    "link_list = []\n",
    "name_list = []\n",
    "for i in range(len(date_list)):\n",
    "    date_list[i] = date_list[i].strftime('%Y%m%d')\n",
    "    name_list.append('margin'+date_list[i]+'.xls')\n",
    "    browser.get('http://www.csf.com.cn/IAutoDisclosure/file/margin'+date_list[i]+'.xls')\n",
    "total_data = pd.DataFrame(columns = ['日期', '证券代码', '证券名称', '期　限(天)', '融出费率', '融出数量(万股)'])"
   ]
  },
  {
   "cell_type": "code",
   "execution_count": 3,
   "metadata": {},
   "outputs": [],
   "source": [
    "for i in range(len(name_list)):\n",
    "    data = pd.read_excel(name_list[i],sheet_name = '转融券交易明细')\n",
    "    data.columns = data.iloc[0]\n",
    "    data = data.drop(0)\n",
    "    data = data.drop(len(data))\n",
    "    data['序号'] = date_list[i]\n",
    "    data.columns = ['日期', '证券代码', '证券名称', '期　限(天)', '融出费率', '融出数量(万股)']\n",
    "    total_data = total_data.append(data)\n",
    "for i in range(len(total_data)):\n",
    "    total_data['融出数量(万股)'].iloc[i] = float(re.sub(',','',total_data['融出数量(万股)'].iloc[i] ))\n",
    "    total_data['融出费率'].iloc[i] = float(re.sub(',','',total_data['融出费率'].iloc[i] ))"
   ]
  },
  {
   "cell_type": "code",
   "execution_count": 4,
   "metadata": {},
   "outputs": [],
   "source": [
    "#新股检查与保存&去掉新股\n",
    "total_data['N'] = total_data['证券名称'].str.contains('N')\n",
    "new = total_data[total_data['N']==True].copy()\n",
    "del new['N']\n",
    "new['融出费率']=(new['融出费率']-0.006)*100\n",
    "new.to_excel('新股.xlsx',index=None)\n",
    "total_data =total_data[total_data['N']==False].copy()"
   ]
  },
  {
   "cell_type": "code",
   "execution_count": 5,
   "metadata": {},
   "outputs": [],
   "source": [
    "code_list = [\n",
    " '688733.SH',\n",
    " '688728.SH',\n",
    " '688187.SH',\n",
    " '688261.SH',\n",
    " '688282.SH',\n",
    " '688193.SH',\n",
    " '688125.SH',\n",
    " '688320.SH',\n",
    " '688400.SH',\n",
    " '688371.SH',\n",
    " '301095.SZ']#这是我方的股票代码\n",
    "our_stock  = pd.DataFrame(columns = ['日期', '证券代码', '证券名称', '期　限(天)', '融出费率', '融出数量(万股)'])\n",
    "for i in range(len(code_list)):\n",
    "    our_stock = our_stock.append(total_data[total_data['证券代码']==re.sub('.SH','',code_list[i])])\n",
    "our_stock['融出费率'] = (our_stock['融出费率']-0.006)*100\n",
    "del our_stock['N']\n",
    "our_stock.to_excel('我们的股票.xlsx',index=None)"
   ]
  },
  {
   "cell_type": "code",
   "execution_count": 6,
   "metadata": {},
   "outputs": [],
   "source": [
    "#余下的股票\n",
    "a = total_data.groupby(['证券代码','证券名称']).agg({'融出费率':[min,max],'融出数量(万股)':sum})\n",
    "b = pd.DataFrame(total_data.groupby(['证券代码','证券名称']))\n",
    "mean = []\n",
    "for i in range(len(b)):\n",
    "    ex = b[1].iloc[i].copy()\n",
    "    mean.append((ex['融出费率']*ex['融出数量(万股)']).sum()/(ex['融出数量(万股)'].sum()))\n",
    "a['出借笔数']=total_data.groupby(['证券代码','证券名称']).agg('count')['日期']\n",
    "a['平均出借利率'] = mean\n",
    "a=a.reset_index()\n",
    "a.columns = ['股票代码','股票名称','最低出借利率','最高出借利率','出借总股数(万股)','出借笔数','平均出借利率']\n",
    "for i in ['最低出借利率','最高出借利率','平均出借利率']:\n",
    "    a[i] = (a[i]-0.006)*100\n",
    "a = a[['股票代码','股票名称','最低出借利率','最高出借利率','平均出借利率','出借总股数(万股)','出借笔数']].copy()"
   ]
  },
  {
   "cell_type": "code",
   "execution_count": 7,
   "metadata": {
    "scrolled": true
   },
   "outputs": [],
   "source": [
    "#300保存\n",
    "a['300'] = a['股票代码'].str.contains('^300')\n",
    "a_300 = a[a['300']==True].copy()[['股票代码','股票名称','最低出借利率','最高出借利率','平均出借利率','出借总股数(万股)','出借笔数']]\n",
    "a_300.sort_values('平均出借利率',ascending=False).to_excel('300.xlsx',index = None)"
   ]
  },
  {
   "cell_type": "code",
   "execution_count": 8,
   "metadata": {},
   "outputs": [],
   "source": [
    "#688保存\n",
    "a['688'] = a['股票代码'].str.contains('^688')\n",
    "a_688 = a[a['688']==True].copy()[['股票代码','股票名称','最低出借利率','最高出借利率','平均出借利率','出借总股数(万股)','出借笔数']]\n",
    "a_688.sort_values('平均出借利率',ascending=False).to_excel('688.xlsx',index = None)"
   ]
  },
  {
   "cell_type": "code",
   "execution_count": 9,
   "metadata": {},
   "outputs": [
    {
     "name": "stdout",
     "output_type": "stream",
     "text": [
      "/opt/anaconda3/lib/python3.8/site-packages/matplotlib/mpl-data/matplotlibrc\n"
     ]
    }
   ],
   "source": [
    "import matplotlib\n",
    "print(matplotlib.matplotlib_fname())"
   ]
  },
  {
   "cell_type": "code",
   "execution_count": 10,
   "metadata": {},
   "outputs": [],
   "source": [
    "import matplotlib.pyplot as plt\n",
    "plt.rcParams['font.sans-serif']=['Heiti TC'] #用来正常显示中文标签\n",
    "plt.rcParams['figure.figsize'] = (10.0, 8.0)  # set default size of plots\n",
    "plt.rcParams['image.interpolation'] = 'nearest'\n",
    "plt.rcParams['image.cmap'] = 'gray'\n",
    "\n"
   ]
  },
  {
   "cell_type": "code",
   "execution_count": 11,
   "metadata": {
    "scrolled": true
   },
   "outputs": [
    {
     "data": {
      "image/png": "[encoded data removed]",
      "text/plain": [
       "<Figure size 720x576 with 1 Axes>"
      ]
     },
     "metadata": {
      "needs_background": "light"
     },
     "output_type": "display_data"
    }
   ],
   "source": [
    "D_300=a_688\n",
    "D_300['N']=D_300['股票名称'].str.contains(\"N\")\n",
    "D_300 = D_300[D_300['N']==False]\n",
    "plt.bar(D_300['平均出借利率'],D_300['出借笔数'] )                           \n",
    "plt.xlabel('平均利率大小')                           \n",
    "plt.ylabel('交易笔数') \n",
    "plt.yticks([i for i in range(int(D_300['出借笔数'].max()+2))])\n",
    "plt.xticks([i/2 for i in range((int(D_300['平均出借利率'].max())+2)*2)])\n",
    "plt.title('科创板平均出借利率与交易数量')\n",
    "plt.savefig('科创板平均出借利率与交易数量.jpg')"
   ]
  },
  {
   "cell_type": "code",
   "execution_count": 12,
   "metadata": {},
   "outputs": [
    {
     "data": {
      "image/png": "[encoded data removed]",
      "text/plain": [
       "<Figure size 720x576 with 1 Axes>"
      ]
     },
     "metadata": {
      "needs_background": "light"
     },
     "output_type": "display_data"
    }
   ],
   "source": [
    "D_300=a_300\n",
    "D_300['N']=D_300['股票名称'].str.contains(\"N\")\n",
    "D_300 = D_300[D_300['N']==False]\n",
    "plt.bar(D_300['平均出借利率'],D_300['出借笔数'] )                                \n",
    "plt.xlabel('平均利率大小')                           \n",
    "plt.ylabel('交易笔数') \n",
    "plt.yticks([i for i in range(int(D_300['出借笔数'].max()+2))])\n",
    "plt.xticks([i/2 for i in range((int(D_300['平均出借利率'].max())+2)*2)])\n",
    "plt.title('创业板平均出借利率与交易数量')\n",
    "plt.savefig('创业板平均出借利率与交易数量.jpg')"
   ]
  },
  {
   "cell_type": "code",
   "execution_count": 15,
   "metadata": {},
   "outputs": [],
   "source": []
  },
  {
   "cell_type": "code",
   "execution_count": 16,
   "metadata": {},
   "outputs": [],
   "source": []
  },
  {
   "cell_type": "code",
   "execution_count": 17,
   "metadata": {},
   "outputs": [],
   "source": []
  },
  {
   "cell_type": "code",
   "execution_count": 18,
   "metadata": {},
   "outputs": [],
   "source": []
  },
  {
   "cell_type": "code",
   "execution_count": null,
   "metadata": {},
   "outputs": [],
   "source": []
  }
 ],
 "metadata": {
  "kernelspec": {
   "display_name": "Python 3",
   "language": "python",
   "name": "python3"
  },
  "language_info": {
   "codemirror_mode": {
    "name": "ipython",
    "version": 3
   },
   "file_extension": ".py",
   "mimetype": "text/x-python",
   "name": "python",
   "nbconvert_exporter": "python",
   "pygments_lexer": "ipython3",
   "version": "3.8.3"
  }
 },
 "nbformat": 4,
 "nbformat_minor": 5
}
